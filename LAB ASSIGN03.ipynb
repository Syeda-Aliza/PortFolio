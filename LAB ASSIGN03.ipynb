{
  "nbformat": 4,
  "nbformat_minor": 0,
  "metadata": {
    "colab": {
      "provenance": [],
      "authorship_tag": "ABX9TyPW3fMzjK+qNPfaUJqGKU6T",
      "include_colab_link": true
    },
    "kernelspec": {
      "name": "python3",
      "display_name": "Python 3"
    },
    "language_info": {
      "name": "python"
    }
  },
  "cells": [
    {
      "cell_type": "markdown",
      "metadata": {
        "id": "view-in-github",
        "colab_type": "text"
      },
      "source": [
        "<a href=\"https://colab.research.google.com/github/Syeda-Aliza/PortFolio/blob/main/LAB%20ASSIGN03.ipynb\" target=\"_parent\"><img src=\"https://colab.research.google.com/assets/colab-badge.svg\" alt=\"Open In Colab\"/></a>"
      ]
    },
    {
      "cell_type": "markdown",
      "source": [
        "Question 1"
      ],
      "metadata": {
        "id": "G7ipbfnFPpCB"
      }
    },
    {
      "cell_type": "code",
      "source": [
        "import pandas as pd\n",
        "myDataSet =  {\n",
        "    'Duration':[30,30,30],\n",
        "    'Pulse': [63,173,134],\n",
        "    'Maxpulse' : [164, 345, 354],\n",
        "    'Calories' : [567.1, 234, 644]\n",
        "}\n",
        "myvar = pd.DataFrame(myDataSet)\n",
        "print(myvar)\n",
        "\n",
        "myvar.to_csv('TestSheet.csv', index=False)\n",
        "\n",
        "myvar = pd.read_csv('TestSheet.csv')\n",
        "\n",
        "myvar = pd.DataFrame({\n",
        "    'Duration': [15,15],\n",
        "    'Pulse': [467,245],\n",
        "    'Maxpulse': [264,745],\n",
        "    'Calories': [675.4, 142]\n",
        "})\n",
        "\n",
        "myvar.to_csv('TestSheet.csv', mode='a', index=False, header=False)\n",
        "\n",
        "myvar = pd.read_csv('TestSheet.csv')\n",
        "print(myvar)"
      ],
      "metadata": {
        "colab": {
          "base_uri": "https://localhost:8080/"
        },
        "id": "fU5NOzWuPsOC",
        "outputId": "7d5a9f25-3c99-473f-9da1-724542a2c8b9"
      },
      "execution_count": 2,
      "outputs": [
        {
          "output_type": "stream",
          "name": "stdout",
          "text": [
            "   Duration  Pulse  Maxpulse  Calories\n",
            "0        30     63       164     567.1\n",
            "1        30    173       345     234.0\n",
            "2        30    134       354     644.0\n",
            "   Duration  Pulse  Maxpulse  Calories\n",
            "0        30     63       164     567.1\n",
            "1        30    173       345     234.0\n",
            "2        30    134       354     644.0\n",
            "3        15    467       264     675.4\n",
            "4        15    245       745     142.0\n"
          ]
        }
      ]
    },
    {
      "cell_type": "markdown",
      "source": [
        "Question 2"
      ],
      "metadata": {
        "id": "t02rACNRQAv-"
      }
    },
    {
      "cell_type": "code",
      "source": [
        "import nltk\n",
        "nltk.download('punkt')"
      ],
      "metadata": {
        "colab": {
          "base_uri": "https://localhost:8080/"
        },
        "id": "Ag8wNue_QDJo",
        "outputId": "42af427b-1bed-4f26-f5dd-01b1baf397d7"
      },
      "execution_count": 1,
      "outputs": [
        {
          "output_type": "stream",
          "name": "stderr",
          "text": [
            "[nltk_data] Downloading package punkt to /root/nltk_data...\n",
            "[nltk_data]   Unzipping tokenizers/punkt.zip.\n"
          ]
        },
        {
          "output_type": "execute_result",
          "data": {
            "text/plain": [
              "True"
            ]
          },
          "metadata": {},
          "execution_count": 1
        }
      ]
    },
    {
      "cell_type": "code",
      "source": [
        "from nltk.tokenize import sent_tokenize\n",
        "data = \"A poem weaves in the tapestry of chance. Where trains and buses intertwine. In the dance of moments. A fleeting glance. A story unfolds. Intricate and fine.\"\n",
        "result = sent_tokenize(data)\n",
        "for x in range(len(result)):\n",
        "    print(result[x])\n"
      ],
      "metadata": {
        "colab": {
          "base_uri": "https://localhost:8080/"
        },
        "id": "nyYdHeVFQI9t",
        "outputId": "34adeddf-8466-4723-e8ad-1a906fd852ca"
      },
      "execution_count": 3,
      "outputs": [
        {
          "output_type": "stream",
          "name": "stdout",
          "text": [
            "A poem weaves in the tapestry of chance.\n",
            "Where trains and buses intertwine.\n",
            "In the dance of moments.\n",
            "A fleeting glance.\n",
            "A story unfolds.\n",
            "Intricate and fine.\n"
          ]
        }
      ]
    },
    {
      "cell_type": "markdown",
      "source": [
        "Question 3"
      ],
      "metadata": {
        "id": "bPWdOSnYQe2Z"
      }
    },
    {
      "cell_type": "code",
      "source": [
        "from nltk.tokenize import word_tokenize\n",
        "data = \"The sun dipped below the horizon. Stars twinkled in the night sky. A gentle breeze rustled the leaves. The moon cast its silvery glow.\"\n",
        "result = word_tokenize(data)\n",
        "print(result)"
      ],
      "metadata": {
        "colab": {
          "base_uri": "https://localhost:8080/"
        },
        "id": "SSsE39lNQhxs",
        "outputId": "7c9370df-b25a-4178-a368-525748f775a8"
      },
      "execution_count": 4,
      "outputs": [
        {
          "output_type": "stream",
          "name": "stdout",
          "text": [
            "['The', 'sun', 'dipped', 'below', 'the', 'horizon', '.', 'Stars', 'twinkled', 'in', 'the', 'night', 'sky', '.', 'A', 'gentle', 'breeze', 'rustled', 'the', 'leaves', '.', 'The', 'moon', 'cast', 'its', 'silvery', 'glow', '.']\n"
          ]
        }
      ]
    },
    {
      "cell_type": "markdown",
      "source": [
        "Question 4"
      ],
      "metadata": {
        "id": "-PefGeX1QoFL"
      }
    },
    {
      "cell_type": "code",
      "source": [
        "from nltk.tokenize import sent_tokenize, word_tokenize\n",
        "data = \"The sun dipped below the horizon. Stars twinkled in the night sky. A gentle breeze rustled the leaves. The moon cast its silvery glow.\"\n",
        "mylist = [word_tokenize(t) for t in sent_tokenize(data)]\n",
        "for i in mylist:\n",
        "  print(i)"
      ],
      "metadata": {
        "colab": {
          "base_uri": "https://localhost:8080/"
        },
        "id": "MqNVCRSXQqN5",
        "outputId": "61807f49-e217-48e8-ed3b-5620bd2ff0fe"
      },
      "execution_count": 5,
      "outputs": [
        {
          "output_type": "stream",
          "name": "stdout",
          "text": [
            "['The', 'sun', 'dipped', 'below', 'the', 'horizon', '.']\n",
            "['Stars', 'twinkled', 'in', 'the', 'night', 'sky', '.']\n",
            "['A', 'gentle', 'breeze', 'rustled', 'the', 'leaves', '.']\n",
            "['The', 'moon', 'cast', 'its', 'silvery', 'glow', '.']\n"
          ]
        }
      ]
    },
    {
      "cell_type": "markdown",
      "source": [
        "Question 5"
      ],
      "metadata": {
        "id": "WfMYtbIGQuFK"
      }
    },
    {
      "cell_type": "code",
      "source": [
        "import spacy\n",
        "nlp = spacy.blank(\"en\")\n",
        "new_text = \"Changing the text for spaCy. Wow! It's so fascinating.\"\n",
        "doc = nlp(new_text)\n",
        "for token in doc:\n",
        "    print(token.text)"
      ],
      "metadata": {
        "colab": {
          "base_uri": "https://localhost:8080/"
        },
        "id": "BuGZWbezQv8I",
        "outputId": "afdd17c9-1731-487f-ccc1-9c98b035fd9d"
      },
      "execution_count": 6,
      "outputs": [
        {
          "output_type": "stream",
          "name": "stdout",
          "text": [
            "Changing\n",
            "the\n",
            "text\n",
            "for\n",
            "spaCy\n",
            ".\n",
            "Wow\n",
            "!\n",
            "It\n",
            "'s\n",
            "so\n",
            "fascinating\n",
            ".\n"
          ]
        }
      ]
    }
  ]
}